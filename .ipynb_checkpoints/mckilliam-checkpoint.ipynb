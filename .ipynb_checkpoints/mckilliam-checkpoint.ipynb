{
 "cells": [
  {
   "cell_type": "code",
   "execution_count": 1,
   "id": "d36659b3-ce61-4fcb-b4b3-8d81ec541df8",
   "metadata": {},
   "outputs": [],
   "source": [
    "import numpy as np\n",
    "import graph_tool.all as gt"
   ]
  },
  {
   "cell_type": "code",
   "execution_count": 2,
   "id": "18f6195a-ff07-43f1-b816-c7ac62925171",
   "metadata": {},
   "outputs": [],
   "source": [
    "# B is the obtuse superbasis of a n-dimensional gadget lattice\n",
    "# p is a (n+1)-dimensional vector\n",
    "# returns t \\in \\{0,1\\}^{n+1} such that ||B(p-t)||_2 is minimized\n",
    "def next_step(B, p):\n",
    "    # construct adjacency matrix\n",
    "    n = B.shape[0]\n",
    "    Q = B.T @ B\n",
    "    s = -2 * (Q @ p)\n",
    "    W = np.hstack((np.zeros((n+1, 1)), -Q, np.zeros((n+1, 1))))\n",
    "    W = np.vstack((np.zeros((1, n+3)), W, np.zeros((1, n+3))))\n",
    "    for i in range(1, n+2):\n",
    "        s_i = s[i-1]\n",
    "        if s_i >= 0:\n",
    "            W[i][n+2] = s_i\n",
    "            W[n+2][i] = s_i\n",
    "            W[0][i] = 0\n",
    "            W[i][0] = 0\n",
    "        else:\n",
    "            W[i][n+2] = 0\n",
    "            W[n+2][i] = 0\n",
    "            W[0][i] = -s_i\n",
    "            W[i][0] = -s_i\n",
    "\n",
    "    # construct graph\n",
    "    g = gt.Graph()\n",
    "    g.add_vertex(n+3)\n",
    "    weight_prop = g.new_edge_property(\"double\")\n",
    "    g.ep.weight = weight_prop\n",
    "    for i in range(n+3):\n",
    "        for j in range(n+3):\n",
    "            if W[i][j] > 0:\n",
    "                edge = g.add_edge(g.vertex(i), g.vertex(j))\n",
    "                g.ep.weight[edge] = W[i][j]\n",
    "\n",
    "    # find min cut\n",
    "    residual = gt.edmonds_karp_max_flow(g, g.vertex(0), g.vertex(n+2), g.ep.weight)\n",
    "    part = gt.min_st_cut(g, g.vertex(0), g.ep.weight, residual)\n",
    "    \n",
    "    # find t\n",
    "    t = np.zeros(n+1)\n",
    "    for i in range(1, n+2):\n",
    "        in_src_part = part[g.vertex(i)]\n",
    "        if in_src_part:\n",
    "            t[i-1] = 1\n",
    "        else:\n",
    "            t[i-1] = 0\n",
    "    return t"
   ]
  },
  {
   "cell_type": "code",
   "execution_count": 3,
   "id": "bfff0748-4ba3-46f7-b686-cb47485048da",
   "metadata": {},
   "outputs": [],
   "source": [
    "# get the n-dimensional basis for the base-b gadget lattice\n",
    "def get_gadget_superbasis(n, b):\n",
    "    def get_base_entry(r, c):\n",
    "        if r == c:\n",
    "            return b\n",
    "        elif r == c + 1:\n",
    "            return -1\n",
    "        else:\n",
    "            return 0\n",
    "    B_raw = np.array([[get_base_entry(r, c) for c in range(n)] for r in range(n)])\n",
    "    # convert B into an obtuse superbasis\n",
    "    B = np.hstack((B_raw, -np.sum(B_raw, axis=1).reshape((n, 1))))\n",
    "    return B\n",
    "\n",
    "# compute inverse(B) @ t\n",
    "# B is the base-b gadget lattice basis\n",
    "# faster than computing matrix inverse due to niceness of inverse(B)\n",
    "def b_inv_mul(b, t):\n",
    "    n = len(t)\n",
    "\n",
    "    t1 = np.zeros(n)\n",
    "    prev = 0\n",
    "    for i in range(n):\n",
    "        t1[i] = (prev + t[i]) / b\n",
    "        prev = t1[i]\n",
    "\n",
    "    return t1\n",
    "\n",
    "# B is the obtuse superbasis of the lattice, y is the target point\n",
    "# finds the closest lattice point to y\n",
    "def cvp(B, y, next_step_func, epsilon=1e-9):\n",
    "    # find z s.t. y = Bz\n",
    "    n = B.shape[0]\n",
    "    b = B[0][0]\n",
    "    B_raw = B[:, :n]\n",
    "    z = b_inv_mul(b, y)\n",
    "    z = np.hstack((z, [0]))\n",
    "\n",
    "    # main loop of the algorithm\n",
    "    u = np.floor(z)\n",
    "    dist = np.linalg.norm(B @ (z - u))\n",
    "    for i in range(n):\n",
    "        t = next_step_func(B, z - u)\n",
    "        new_u = u + t\n",
    "        new_dist = np.linalg.norm(B @ (z - new_u))\n",
    "        if np.abs(new_dist - dist) <= epsilon:\n",
    "            break\n",
    "        u = new_u\n",
    "        dist = new_dist\n",
    "    return (B @ u, i)"
   ]
  },
  {
   "cell_type": "code",
   "execution_count": 21,
   "id": "04c68cc0-dfeb-44a0-8965-5c13f6b55789",
   "metadata": {},
   "outputs": [],
   "source": [
    "# experiment\n",
    "n = 15\n",
    "b = 2\n",
    "B = get_gadget_superbasis(n, b)\n",
    "num_tests = 10000\n",
    "for i in range(num_tests):\n",
    "    y = (2 * np.random.random(n) - 1) * 1e2\n",
    "    x, num_iter = cvp(B, y, next_step)\n",
    "    if num_iter > 1:\n",
    "        print(y, x, num_iter)"
   ]
  },
  {
   "cell_type": "markdown",
   "id": "45ee41c3-9434-4657-a589-1b7183c9f1a2",
   "metadata": {},
   "source": [
    "The following demonstrates running CVP on a point that is inside of the lattice's Voronoi cell but outside of the fundamental parallelepiped."
   ]
  },
  {
   "cell_type": "code",
   "execution_count": 42,
   "id": "f75d7d7b-a65a-477f-9180-f917b5d06b3e",
   "metadata": {},
   "outputs": [],
   "source": [
    "def basis(n, b):\n",
    "    B = np.zeros((n, n))\n",
    "    for i in range(n):\n",
    "        B[i, i] = b\n",
    "        if i != n-1:\n",
    "            B[i+1, i] = -1\n",
    "    return B\n",
    "\n",
    "def voronoi_relevant_vectors(n, b):\n",
    "    B = basis(n, b)\n",
    "    result = []\n",
    "    for i in range(n):\n",
    "        for j in range(i, n):\n",
    "            v = np.zeros(n)\n",
    "            for k in range(i, j+1):\n",
    "                v[k] = 1\n",
    "            result.append(B @ v)\n",
    "            result.append(-B @ v)\n",
    "    return result\n",
    "\n",
    "n = 7\n",
    "b = 2\n",
    "B_super = get_gadget_superbasis(n, b)\n",
    "B = basis(n, b)\n",
    "x = np.array([6.17187500e-01, 7.34375000e-01, 9.68750000e-01, 1.43750000e+00, 3.75000000e-01, 2.50000000e-01, 2.39312253e-16]) * 0.9999"
   ]
  },
  {
   "cell_type": "markdown",
   "id": "88f6ec1a-c2aa-40a0-a77e-edf1c5bdc203",
   "metadata": {},
   "source": [
    "`x` is outside of $B[-1, 1]^n$"
   ]
  },
  {
   "cell_type": "code",
   "execution_count": 43,
   "id": "39502cbc-f7be-4d5d-b2cd-8b2831543686",
   "metadata": {},
   "outputs": [
    {
     "name": "stdout",
     "output_type": "stream",
     "text": [
      "[0.30856289 0.52143223 0.74504268 1.09119946 0.73308098 0.49152799\n",
      " 0.245764  ]\n"
     ]
    }
   ],
   "source": [
    "print(b_inv_mul(b, x))"
   ]
  },
  {
   "cell_type": "markdown",
   "id": "515c7b60-d919-4edd-aeca-ed9b5d4f2c94",
   "metadata": {},
   "source": [
    "`x` is inside of the Voronoi cell."
   ]
  },
  {
   "cell_type": "code",
   "execution_count": 51,
   "id": "8f04d486-00f4-428d-89e9-6fd15a562adc",
   "metadata": {},
   "outputs": [
    {
     "name": "stdout",
     "output_type": "stream",
     "text": [
      "is_in_voronoi_cell=True\n"
     ]
    }
   ],
   "source": [
    "relvecs = voronoi_relevant_vectors(n, b)\n",
    "is_in_voronoi_cell = True\n",
    "for v in relvecs:\n",
    "    if not x @ v <= v @ v / 2:\n",
    "        is_in_voronoi_cell = False\n",
    "print(f\"is_in_voronoi_cell={is_in_voronoi_cell}\")"
   ]
  },
  {
   "cell_type": "code",
   "execution_count": 52,
   "id": "423e1e8c-b417-4413-8bad-9a4f500571f8",
   "metadata": {},
   "outputs": [
    {
     "name": "stdout",
     "output_type": "stream",
     "text": [
      "Closest lattice point of x=[0. 0. 0. 0. 0. 0. 0.]\n",
      "Number of iterations=1\n"
     ]
    }
   ],
   "source": [
    "# the closest lattice point should be the origin\n",
    "y, num_iter = cvp(B_super, x, next_step)\n",
    "print(f\"Closest lattice point of x={y}\")\n",
    "print(f\"Number of iterations={num_iter}\")"
   ]
  },
  {
   "cell_type": "markdown",
   "id": "48b33a2a-d030-4282-b15c-b4282fafad7b",
   "metadata": {},
   "source": [
    "Running CVP on $x' = x \\mod B$ terminates in one step and returns $(x' - x)$ as the closest lattice point."
   ]
  },
  {
   "cell_type": "code",
   "execution_count": 54,
   "id": "10897b92-acef-44aa-81a7-82d874a9b674",
   "metadata": {},
   "outputs": [
    {
     "name": "stdout",
     "output_type": "stream",
     "text": [
      "Closest lattice point of x'=[ 0.  0.  0. -2.  1.  0.  0.]\n",
      "Number of iterations=1\n",
      "(x' - x)=[ 0.00000000e+00  0.00000000e+00  1.11022302e-16 -2.00000000e+00\n",
      "  1.00000000e+00  5.55111512e-17 -1.72437168e-17]\n"
     ]
    }
   ],
   "source": [
    "x1 = B @ (b_inv_mul(b, x) % 1)\n",
    "y1, num_iter1 = cvp(B_super, x1, next_step)\n",
    "print(f\"Closest lattice point of x'={y1}\")\n",
    "print(f\"Number of iterations={num_iter1}\")\n",
    "print(f\"(x' - x)={x1 - x}\")"
   ]
  }
 ],
 "metadata": {
  "kernelspec": {
   "display_name": "Python 3",
   "language": "python",
   "name": "python3"
  },
  "language_info": {
   "codemirror_mode": {
    "name": "ipython",
    "version": 3
   },
   "file_extension": ".py",
   "mimetype": "text/x-python",
   "name": "python",
   "nbconvert_exporter": "python",
   "pygments_lexer": "ipython3",
   "version": "3.8.5"
  }
 },
 "nbformat": 4,
 "nbformat_minor": 5
}
