{
 "cells": [
  {
   "cell_type": "code",
   "execution_count": 1,
   "id": "7d8c704a-a653-409b-9056-c19ed33c68b0",
   "metadata": {},
   "outputs": [],
   "source": [
    "import numpy as np\n",
    "import cvxpy as cp\n",
    "import matplotlib.pyplot as plt"
   ]
  },
  {
   "cell_type": "code",
   "execution_count": 71,
   "id": "7622e82e-3ee7-43c3-b54b-f8195bdba316",
   "metadata": {},
   "outputs": [],
   "source": [
    "def basis(n, b):\n",
    "    B = np.zeros((n, n))\n",
    "    for i in range(n):\n",
    "        B[i, i] = b\n",
    "        if i != n-1:\n",
    "            B[i+1, i] = -1\n",
    "    return B\n",
    "\n",
    "def voronoi_relevant_vectors(n, b):\n",
    "    B = basis(n, b)\n",
    "    result = []\n",
    "    for i in range(n):\n",
    "        for j in range(i, n):\n",
    "            v = np.zeros(n)\n",
    "            for k in range(i, j+1):\n",
    "                v[k] = 1\n",
    "            result.append(B @ v)\n",
    "            result.append(-B @ v)\n",
    "    return result\n",
    "\n",
    "def unit_vector(n, i):\n",
    "    e = np.zeros(n)\n",
    "    e[i] = 1\n",
    "    return e"
   ]
  },
  {
   "cell_type": "code",
   "execution_count": 72,
   "id": "775cc963-eb58-4d2a-b223-803e494bb479",
   "metadata": {},
   "outputs": [],
   "source": [
    "# defines the linear programming problem for facet i of the extended fundamental parallelepiped (B[-1,1]^n)\n",
    "def problem(n, b, i, sign):\n",
    "    B = basis(n, b)\n",
    "    B_inv = np.linalg.inv(B)\n",
    "    relvecs = voronoi_relevant_vectors(n, b)\n",
    "    \n",
    "    x = cp.Variable(n)\n",
    "    # the objective is finding the maximum value in dimension i\n",
    "    # among all points in the Voronoi cell\n",
    "    objective = cp.Maximize(sign * B_inv @ x @ unit_vector(n, i) - 1)\n",
    "    # constrain x to be inside the Voronoi cell\n",
    "    constraints = list(map(lambda v: x @ v <= v @ v / 2, relvecs))\n",
    "    prob = cp.Problem(objective=objective, constraints=constraints)\n",
    "    return x, prob"
   ]
  },
  {
   "cell_type": "code",
   "execution_count": 77,
   "id": "84262a2f-1756-4105-a7b5-12db5677f5fd",
   "metadata": {},
   "outputs": [
    {
     "data": {
      "image/png": "[encoded data removed]",
      "text/plain": [
       "<Figure size 432x288 with 1 Axes>"
      ]
     },
     "metadata": {
      "needs_background": "light"
     },
     "output_type": "display_data"
    },
    {
     "data": {
      "text/plain": [
       "0.0913085936650826"
      ]
     },
     "execution_count": 77,
     "metadata": {},
     "output_type": "execute_result"
    }
   ],
   "source": [
    "# i is the variable\n",
    "n = 7\n",
    "b = 2\n",
    "i_list = range(n)\n",
    "vals = []\n",
    "for i in i_list:\n",
    "    x, prob = problem(n, b, i, 1)\n",
    "    prob.solve()\n",
    "    vals.append(prob.value)\n",
    "plt.plot(i_list, vals)\n",
    "plt.show()\n",
    "np.max(vals)"
   ]
  }
 ],
 "metadata": {
  "kernelspec": {
   "display_name": "Python 3",
   "language": "python",
   "name": "python3"
  },
  "language_info": {
   "codemirror_mode": {
    "name": "ipython",
    "version": 3
   },
   "file_extension": ".py",
   "mimetype": "text/x-python",
   "name": "python",
   "nbconvert_exporter": "python",
   "pygments_lexer": "ipython3",
   "version": "3.8.5"
  }
 },
 "nbformat": 4,
 "nbformat_minor": 5
}
